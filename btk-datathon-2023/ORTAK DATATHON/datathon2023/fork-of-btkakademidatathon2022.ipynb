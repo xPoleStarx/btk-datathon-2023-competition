{
 "cells": [
  {
   "cell_type": "code",
   "execution_count": 1,
   "id": "f47348e2",
   "metadata": {
    "_cell_guid": "b1076dfc-b9ad-4769-8c92-a6c4dae69d19",
    "_uuid": "8f2839f25d086af736a60e9eeb907d3b93b6e0e5",
    "execution": {
     "iopub.execute_input": "2022-08-07T09:38:29.187938Z",
     "iopub.status.busy": "2022-08-07T09:38:29.186665Z",
     "iopub.status.idle": "2022-08-07T09:38:30.260492Z",
     "shell.execute_reply": "2022-08-07T09:38:30.261078Z",
     "shell.execute_reply.started": "2022-08-07T09:37:04.926987Z"
    },
    "papermill": {
     "duration": 1.102932,
     "end_time": "2022-08-07T09:38:30.261449",
     "exception": false,
     "start_time": "2022-08-07T09:38:29.158517",
     "status": "completed"
    },
    "tags": []
   },
   "outputs": [
    {
     "name": "stdout",
     "output_type": "stream",
     "text": [
      "/kaggle/input/datathon2022/train.csv\n",
      "/kaggle/input/datathon2022/testFeatures.csv\n",
      "/kaggle/input/datathon2022/sample_solution.csv\n"
     ]
    }
   ],
   "source": [
    "# This Python 3 environment comes with many helpful analytics libraries installed\n",
    "# It is defined by the kaggle/python Docker image: https://github.com/kaggle/docker-python\n",
    "# For example, here's several helpful packages to load\n",
    "\n",
    "import numpy as np # linear algebra\n",
    "import pandas as pd # data processing, CSV file I/O (e.g. pd.read_csv)\n",
    "import matplotlib.pyplot as plt\n",
    "import seaborn as sns\n",
    "# Input data files are available in the read-only \"../input/\" directory\n",
    "# For example, running this (by clicking run or pressing Shift+Enter) will list all files under the input directory\n",
    "\n",
    "import os\n",
    "for dirname, _, filenames in os.walk('/kaggle/input'):\n",
    "    for filename in filenames:\n",
    "        print(os.path.join(dirname, filename))\n",
    "\n",
    "# You can write up to 20GB to the current directory (/kaggle/working/) that gets preserved as output when you create a version using \"Save & Run All\" \n",
    "# You can also write temporary files to /kaggle/temp/, but they won't be saved outside of the current session"
   ]
  },
  {
   "cell_type": "code",
   "execution_count": 2,
   "id": "97de980d",
   "metadata": {
    "execution": {
     "iopub.execute_input": "2022-08-07T09:38:30.311192Z",
     "iopub.status.busy": "2022-08-07T09:38:30.310454Z",
     "iopub.status.idle": "2022-08-07T09:38:30.970151Z",
     "shell.execute_reply": "2022-08-07T09:38:30.969380Z",
     "shell.execute_reply.started": "2022-08-07T09:37:06.252961Z"
    },
    "papermill": {
     "duration": 0.685278,
     "end_time": "2022-08-07T09:38:30.970322",
     "exception": false,
     "start_time": "2022-08-07T09:38:30.285044",
     "status": "completed"
    },
    "tags": []
   },
   "outputs": [],
   "source": [
    "train= pd.read_csv('../input/datathon2022/train.csv')\n",
    "test=pd.read_csv('../input/datathon2022/testFeatures.csv')"
   ]
  },
  {
   "cell_type": "code",
   "execution_count": 3,
   "id": "358e04db",
   "metadata": {
    "execution": {
     "iopub.execute_input": "2022-08-07T09:38:31.028111Z",
     "iopub.status.busy": "2022-08-07T09:38:31.027006Z",
     "iopub.status.idle": "2022-08-07T09:38:31.046636Z",
     "shell.execute_reply": "2022-08-07T09:38:31.045992Z",
     "shell.execute_reply.started": "2022-08-07T09:37:06.930496Z"
    },
    "papermill": {
     "duration": 0.051178,
     "end_time": "2022-08-07T09:38:31.046831",
     "exception": false,
     "start_time": "2022-08-07T09:38:30.995653",
     "status": "completed"
    },
    "tags": []
   },
   "outputs": [
    {
     "data": {
      "text/html": [
       "<div>\n",
       "<style scoped>\n",
       "    .dataframe tbody tr th:only-of-type {\n",
       "        vertical-align: middle;\n",
       "    }\n",
       "\n",
       "    .dataframe tbody tr th {\n",
       "        vertical-align: top;\n",
       "    }\n",
       "\n",
       "    .dataframe thead th {\n",
       "        text-align: right;\n",
       "    }\n",
       "</style>\n",
       "<table border=\"1\" class=\"dataframe\">\n",
       "  <thead>\n",
       "    <tr style=\"text-align: right;\">\n",
       "      <th></th>\n",
       "      <th>tarih</th>\n",
       "      <th>ürün</th>\n",
       "      <th>ürün besin değeri</th>\n",
       "      <th>ürün kategorisi</th>\n",
       "      <th>ürün fiyatı</th>\n",
       "      <th>ürün üretim yeri</th>\n",
       "      <th>market</th>\n",
       "      <th>şehir</th>\n",
       "    </tr>\n",
       "  </thead>\n",
       "  <tbody>\n",
       "    <tr>\n",
       "      <th>0</th>\n",
       "      <td>2016-01-01</td>\n",
       "      <td>kıyma</td>\n",
       "      <td>120</td>\n",
       "      <td>et</td>\n",
       "      <td>33.41</td>\n",
       "      <td>Yurt içi</td>\n",
       "      <td>M</td>\n",
       "      <td>A</td>\n",
       "    </tr>\n",
       "    <tr>\n",
       "      <th>1</th>\n",
       "      <td>2016-01-01</td>\n",
       "      <td>tavuk</td>\n",
       "      <td>103</td>\n",
       "      <td>et</td>\n",
       "      <td>11.22</td>\n",
       "      <td>Yurt içi</td>\n",
       "      <td>M</td>\n",
       "      <td>A</td>\n",
       "    </tr>\n",
       "    <tr>\n",
       "      <th>2</th>\n",
       "      <td>2016-01-01</td>\n",
       "      <td>hindi</td>\n",
       "      <td>160</td>\n",
       "      <td>et</td>\n",
       "      <td>11.12</td>\n",
       "      <td>Yurt içi</td>\n",
       "      <td>M</td>\n",
       "      <td>A</td>\n",
       "    </tr>\n",
       "    <tr>\n",
       "      <th>3</th>\n",
       "      <td>2016-01-01</td>\n",
       "      <td>Bakla-kuru</td>\n",
       "      <td>354</td>\n",
       "      <td>sebze ve bakliyat</td>\n",
       "      <td>7.02</td>\n",
       "      <td>Yurt içi</td>\n",
       "      <td>M</td>\n",
       "      <td>A</td>\n",
       "    </tr>\n",
       "    <tr>\n",
       "      <th>4</th>\n",
       "      <td>2016-01-01</td>\n",
       "      <td>Bakla-taze</td>\n",
       "      <td>72</td>\n",
       "      <td>sebze ve bakliyat</td>\n",
       "      <td>13.14</td>\n",
       "      <td>Yurt içi</td>\n",
       "      <td>M</td>\n",
       "      <td>A</td>\n",
       "    </tr>\n",
       "  </tbody>\n",
       "</table>\n",
       "</div>"
      ],
      "text/plain": [
       "        tarih        ürün  ürün besin değeri    ürün kategorisi  ürün fiyatı  \\\n",
       "0  2016-01-01       kıyma                120                 et        33.41   \n",
       "1  2016-01-01       tavuk                103                 et        11.22   \n",
       "2  2016-01-01       hindi                160                 et        11.12   \n",
       "3  2016-01-01  Bakla-kuru                354  sebze ve bakliyat         7.02   \n",
       "4  2016-01-01  Bakla-taze                 72  sebze ve bakliyat        13.14   \n",
       "\n",
       "  ürün üretim yeri market şehir  \n",
       "0         Yurt içi      M     A  \n",
       "1         Yurt içi      M     A  \n",
       "2         Yurt içi      M     A  \n",
       "3         Yurt içi      M     A  \n",
       "4         Yurt içi      M     A  "
      ]
     },
     "execution_count": 3,
     "metadata": {},
     "output_type": "execute_result"
    }
   ],
   "source": [
    "#Veriyi görüntüleme\n",
    "train.head()"
   ]
  },
  {
   "cell_type": "code",
   "execution_count": 4,
   "id": "0c3218eb",
   "metadata": {
    "execution": {
     "iopub.execute_input": "2022-08-07T09:38:31.101387Z",
     "iopub.status.busy": "2022-08-07T09:38:31.100554Z",
     "iopub.status.idle": "2022-08-07T09:38:31.183681Z",
     "shell.execute_reply": "2022-08-07T09:38:31.184257Z",
     "shell.execute_reply.started": "2022-08-07T09:37:06.970361Z"
    },
    "papermill": {
     "duration": 0.114115,
     "end_time": "2022-08-07T09:38:31.184482",
     "exception": false,
     "start_time": "2022-08-07T09:38:31.070367",
     "status": "completed"
    },
    "tags": []
   },
   "outputs": [
    {
     "name": "stdout",
     "output_type": "stream",
     "text": [
      "<class 'pandas.core.frame.DataFrame'>\n",
      "RangeIndex: 227520 entries, 0 to 227519\n",
      "Data columns (total 8 columns):\n",
      " #   Column             Non-Null Count   Dtype  \n",
      "---  ------             --------------   -----  \n",
      " 0   tarih              227520 non-null  object \n",
      " 1   ürün               227520 non-null  object \n",
      " 2   ürün besin değeri  227520 non-null  int64  \n",
      " 3   ürün kategorisi    227520 non-null  object \n",
      " 4   ürün fiyatı        227520 non-null  float64\n",
      " 5   ürün üretim yeri   227520 non-null  object \n",
      " 6   market             227520 non-null  object \n",
      " 7   şehir              227520 non-null  object \n",
      "dtypes: float64(1), int64(1), object(6)\n",
      "memory usage: 13.9+ MB\n"
     ]
    }
   ],
   "source": [
    "#Data alanlarımız hakkında bilgi \n",
    "train.info()"
   ]
  },
  {
   "cell_type": "code",
   "execution_count": 5,
   "id": "7efd906f",
   "metadata": {
    "execution": {
     "iopub.execute_input": "2022-08-07T09:38:31.235232Z",
     "iopub.status.busy": "2022-08-07T09:38:31.234507Z",
     "iopub.status.idle": "2022-08-07T09:38:31.261350Z",
     "shell.execute_reply": "2022-08-07T09:38:31.262219Z",
     "shell.execute_reply.started": "2022-08-07T09:37:07.072449Z"
    },
    "papermill": {
     "duration": 0.054169,
     "end_time": "2022-08-07T09:38:31.262513",
     "exception": false,
     "start_time": "2022-08-07T09:38:31.208344",
     "status": "completed"
    },
    "tags": []
   },
   "outputs": [
    {
     "name": "stdout",
     "output_type": "stream",
     "text": [
      "<class 'pandas.core.frame.DataFrame'>\n",
      "RangeIndex: 45504 entries, 0 to 45503\n",
      "Data columns (total 8 columns):\n",
      " #   Column             Non-Null Count  Dtype \n",
      "---  ------             --------------  ----- \n",
      " 0   id                 45504 non-null  int64 \n",
      " 1   tarih              45504 non-null  object\n",
      " 2   ürün               45504 non-null  object\n",
      " 3   ürün besin değeri  45504 non-null  int64 \n",
      " 4   ürün kategorisi    45504 non-null  object\n",
      " 5   ürün üretim yeri   45504 non-null  object\n",
      " 6   market             45504 non-null  object\n",
      " 7   şehir              45504 non-null  object\n",
      "dtypes: int64(2), object(6)\n",
      "memory usage: 2.8+ MB\n"
     ]
    }
   ],
   "source": [
    "test.info()"
   ]
  },
  {
   "cell_type": "code",
   "execution_count": 6,
   "id": "32f57d91",
   "metadata": {
    "execution": {
     "iopub.execute_input": "2022-08-07T09:38:31.317205Z",
     "iopub.status.busy": "2022-08-07T09:38:31.316409Z",
     "iopub.status.idle": "2022-08-07T09:38:31.384669Z",
     "shell.execute_reply": "2022-08-07T09:38:31.384141Z",
     "shell.execute_reply.started": "2022-08-07T09:37:07.102448Z"
    },
    "papermill": {
     "duration": 0.097349,
     "end_time": "2022-08-07T09:38:31.384856",
     "exception": false,
     "start_time": "2022-08-07T09:38:31.287507",
     "status": "completed"
    },
    "tags": []
   },
   "outputs": [
    {
     "data": {
      "text/plain": [
       "tarih                0\n",
       "ürün                 0\n",
       "ürün besin değeri    0\n",
       "ürün kategorisi      0\n",
       "ürün fiyatı          0\n",
       "ürün üretim yeri     0\n",
       "market               0\n",
       "şehir                0\n",
       "dtype: int64"
      ]
     },
     "execution_count": 6,
     "metadata": {},
     "output_type": "execute_result"
    }
   ],
   "source": [
    "#Boş değer kontrolü\n",
    "train.isna().sum()"
   ]
  },
  {
   "cell_type": "code",
   "execution_count": 7,
   "id": "cc9aa64c",
   "metadata": {
    "execution": {
     "iopub.execute_input": "2022-08-07T09:38:31.438264Z",
     "iopub.status.busy": "2022-08-07T09:38:31.437292Z",
     "iopub.status.idle": "2022-08-07T09:38:31.620581Z",
     "shell.execute_reply": "2022-08-07T09:38:31.619922Z",
     "shell.execute_reply.started": "2022-08-07T09:37:07.175267Z"
    },
    "papermill": {
     "duration": 0.211294,
     "end_time": "2022-08-07T09:38:31.620763",
     "exception": false,
     "start_time": "2022-08-07T09:38:31.409469",
     "status": "completed"
    },
    "tags": []
   },
   "outputs": [
    {
     "data": {
      "text/html": [
       "<div>\n",
       "<style scoped>\n",
       "    .dataframe tbody tr th:only-of-type {\n",
       "        vertical-align: middle;\n",
       "    }\n",
       "\n",
       "    .dataframe tbody tr th {\n",
       "        vertical-align: top;\n",
       "    }\n",
       "\n",
       "    .dataframe thead th {\n",
       "        text-align: right;\n",
       "    }\n",
       "</style>\n",
       "<table border=\"1\" class=\"dataframe\">\n",
       "  <thead>\n",
       "    <tr style=\"text-align: right;\">\n",
       "      <th></th>\n",
       "      <th>tarih</th>\n",
       "      <th>ürün</th>\n",
       "      <th>ürün kategorisi</th>\n",
       "      <th>ürün üretim yeri</th>\n",
       "      <th>market</th>\n",
       "      <th>şehir</th>\n",
       "    </tr>\n",
       "  </thead>\n",
       "  <tbody>\n",
       "    <tr>\n",
       "      <th>count</th>\n",
       "      <td>227520</td>\n",
       "      <td>227520</td>\n",
       "      <td>227520</td>\n",
       "      <td>227520</td>\n",
       "      <td>227520</td>\n",
       "      <td>227520</td>\n",
       "    </tr>\n",
       "    <tr>\n",
       "      <th>unique</th>\n",
       "      <td>60</td>\n",
       "      <td>79</td>\n",
       "      <td>6</td>\n",
       "      <td>2</td>\n",
       "      <td>3</td>\n",
       "      <td>8</td>\n",
       "    </tr>\n",
       "    <tr>\n",
       "      <th>top</th>\n",
       "      <td>2016-01-01</td>\n",
       "      <td>kıyma</td>\n",
       "      <td>sebze ve bakliyat</td>\n",
       "      <td>Yurt içi</td>\n",
       "      <td>M</td>\n",
       "      <td>A</td>\n",
       "    </tr>\n",
       "    <tr>\n",
       "      <th>freq</th>\n",
       "      <td>3792</td>\n",
       "      <td>2880</td>\n",
       "      <td>83520</td>\n",
       "      <td>113760</td>\n",
       "      <td>75840</td>\n",
       "      <td>28440</td>\n",
       "    </tr>\n",
       "  </tbody>\n",
       "</table>\n",
       "</div>"
      ],
      "text/plain": [
       "             tarih    ürün    ürün kategorisi ürün üretim yeri  market   şehir\n",
       "count       227520  227520             227520           227520  227520  227520\n",
       "unique          60      79                  6                2       3       8\n",
       "top     2016-01-01   kıyma  sebze ve bakliyat         Yurt içi       M       A\n",
       "freq          3792    2880              83520           113760   75840   28440"
      ]
     },
     "execution_count": 7,
     "metadata": {},
     "output_type": "execute_result"
    }
   ],
   "source": [
    "#Kategorik sütunları görüntüleme\n",
    "train.describe(include=['O'])"
   ]
  },
  {
   "cell_type": "code",
   "execution_count": 8,
   "id": "1e94b8da",
   "metadata": {
    "execution": {
     "iopub.execute_input": "2022-08-07T09:38:31.691502Z",
     "iopub.status.busy": "2022-08-07T09:38:31.690613Z",
     "iopub.status.idle": "2022-08-07T09:38:31.725530Z",
     "shell.execute_reply": "2022-08-07T09:38:31.724925Z",
     "shell.execute_reply.started": "2022-08-07T09:37:07.362400Z"
    },
    "papermill": {
     "duration": 0.079203,
     "end_time": "2022-08-07T09:38:31.725686",
     "exception": false,
     "start_time": "2022-08-07T09:38:31.646483",
     "status": "completed"
    },
    "tags": []
   },
   "outputs": [],
   "source": [
    "#tarih sütununu datetime olarak değiştirme\n",
    "train[\"tarih\"]=pd.to_datetime(train[\"tarih\"])"
   ]
  },
  {
   "cell_type": "code",
   "execution_count": 9,
   "id": "88948d71",
   "metadata": {
    "execution": {
     "iopub.execute_input": "2022-08-07T09:38:31.781600Z",
     "iopub.status.busy": "2022-08-07T09:38:31.780923Z",
     "iopub.status.idle": "2022-08-07T09:38:31.785043Z",
     "shell.execute_reply": "2022-08-07T09:38:31.785503Z",
     "shell.execute_reply.started": "2022-08-07T09:37:07.419791Z"
    },
    "papermill": {
     "duration": 0.035722,
     "end_time": "2022-08-07T09:38:31.785681",
     "exception": false,
     "start_time": "2022-08-07T09:38:31.749959",
     "status": "completed"
    },
    "tags": []
   },
   "outputs": [
    {
     "data": {
      "text/plain": [
       "tarih                datetime64[ns]\n",
       "ürün                         object\n",
       "ürün besin değeri             int64\n",
       "ürün kategorisi              object\n",
       "ürün fiyatı                 float64\n",
       "ürün üretim yeri             object\n",
       "market                       object\n",
       "şehir                        object\n",
       "dtype: object"
      ]
     },
     "execution_count": 9,
     "metadata": {},
     "output_type": "execute_result"
    }
   ],
   "source": [
    "#Alanlarımızın veri tiplerini görme\n",
    "train.dtypes"
   ]
  },
  {
   "cell_type": "code",
   "execution_count": 10,
   "id": "8176b585",
   "metadata": {
    "execution": {
     "iopub.execute_input": "2022-08-07T09:38:31.842812Z",
     "iopub.status.busy": "2022-08-07T09:38:31.842063Z",
     "iopub.status.idle": "2022-08-07T09:38:32.125199Z",
     "shell.execute_reply": "2022-08-07T09:38:32.124652Z",
     "shell.execute_reply.started": "2022-08-07T09:37:07.430727Z"
    },
    "papermill": {
     "duration": 0.31397,
     "end_time": "2022-08-07T09:38:32.125354",
     "exception": false,
     "start_time": "2022-08-07T09:38:31.811384",
     "status": "completed"
    },
    "tags": []
   },
   "outputs": [
    {
     "data": {
      "image/png": "[encoded data removed]",
      "text/plain": [
       "<Figure size 576x576 with 2 Axes>"
      ]
     },
     "metadata": {
      "needs_background": "light"
     },
     "output_type": "display_data"
    }
   ],
   "source": [
    "#sayısal alanlardaki korelasyon\n",
    "corr_1 =train.corr()\n",
    "fig, ax = plt.subplots(figsize=(8, 8))\n",
    "sns.heatmap(corr_1, linewidths=.5, annot=True, fmt=\".2f\")\n",
    "plt.show()"
   ]
  },
  {
   "cell_type": "code",
   "execution_count": 11,
   "id": "4d979d73",
   "metadata": {
    "execution": {
     "iopub.execute_input": "2022-08-07T09:38:32.198341Z",
     "iopub.status.busy": "2022-08-07T09:38:32.197620Z",
     "iopub.status.idle": "2022-08-07T09:38:32.208652Z",
     "shell.execute_reply": "2022-08-07T09:38:32.208132Z",
     "shell.execute_reply.started": "2022-08-07T09:37:07.725961Z"
    },
    "papermill": {
     "duration": 0.055483,
     "end_time": "2022-08-07T09:38:32.208825",
     "exception": false,
     "start_time": "2022-08-07T09:38:32.153342",
     "status": "completed"
    },
    "tags": []
   },
   "outputs": [
    {
     "data": {
      "text/plain": [
       "array(['et', 'sebze ve bakliyat', 'tahıl ve ürünleri',\n",
       "       'süt ürünleri ve kahvaltılık', 'meyve', 'kuruyemiş'], dtype=object)"
      ]
     },
     "execution_count": 11,
     "metadata": {},
     "output_type": "execute_result"
    }
   ],
   "source": [
    "#Ürün kategorisindeki benzersiz değerler\n",
    "kategoriler=train[\"ürün kategorisi\"].unique()\n",
    "kategoriler"
   ]
  },
  {
   "cell_type": "code",
   "execution_count": 12,
   "id": "daf1d57f",
   "metadata": {
    "execution": {
     "iopub.execute_input": "2022-08-07T09:38:32.267115Z",
     "iopub.status.busy": "2022-08-07T09:38:32.266435Z",
     "iopub.status.idle": "2022-08-07T09:38:32.286667Z",
     "shell.execute_reply": "2022-08-07T09:38:32.287217Z",
     "shell.execute_reply.started": "2022-08-07T09:37:07.756317Z"
    },
    "papermill": {
     "duration": 0.05142,
     "end_time": "2022-08-07T09:38:32.287396",
     "exception": false,
     "start_time": "2022-08-07T09:38:32.235976",
     "status": "completed"
    },
    "tags": []
   },
   "outputs": [
    {
     "data": {
      "text/plain": [
       "sebze ve bakliyat              83520\n",
       "meyve                          51840\n",
       "tahıl ve ürünleri              34560\n",
       "süt ürünleri ve kahvaltılık    34560\n",
       "kuruyemiş                      14400\n",
       "et                              8640\n",
       "Name: ürün kategorisi, dtype: int64"
      ]
     },
     "execution_count": 12,
     "metadata": {},
     "output_type": "execute_result"
    }
   ],
   "source": [
    "#Her kategorideki ürün sayısını görüntüleme\n",
    "train[\"ürün kategorisi\"].value_counts()"
   ]
  },
  {
   "cell_type": "code",
   "execution_count": 13,
   "id": "b93ae72d",
   "metadata": {
    "execution": {
     "iopub.execute_input": "2022-08-07T09:38:32.344458Z",
     "iopub.status.busy": "2022-08-07T09:38:32.343781Z",
     "iopub.status.idle": "2022-08-07T09:38:32.406920Z",
     "shell.execute_reply": "2022-08-07T09:38:32.406204Z",
     "shell.execute_reply.started": "2022-08-07T09:37:07.781956Z"
    },
    "papermill": {
     "duration": 0.092509,
     "end_time": "2022-08-07T09:38:32.407076",
     "exception": false,
     "start_time": "2022-08-07T09:38:32.314567",
     "status": "completed"
    },
    "tags": []
   },
   "outputs": [
    {
     "data": {
      "text/html": [
       "<div>\n",
       "<style scoped>\n",
       "    .dataframe tbody tr th:only-of-type {\n",
       "        vertical-align: middle;\n",
       "    }\n",
       "\n",
       "    .dataframe tbody tr th {\n",
       "        vertical-align: top;\n",
       "    }\n",
       "\n",
       "    .dataframe thead th {\n",
       "        text-align: right;\n",
       "    }\n",
       "</style>\n",
       "<table border=\"1\" class=\"dataframe\">\n",
       "  <thead>\n",
       "    <tr style=\"text-align: right;\">\n",
       "      <th></th>\n",
       "      <th></th>\n",
       "      <th>ürün fiyatı</th>\n",
       "    </tr>\n",
       "    <tr>\n",
       "      <th>ürün kategorisi</th>\n",
       "      <th>market</th>\n",
       "      <th></th>\n",
       "    </tr>\n",
       "  </thead>\n",
       "  <tbody>\n",
       "    <tr>\n",
       "      <th rowspan=\"3\" valign=\"top\">et</th>\n",
       "      <th>B</th>\n",
       "      <td>35.995198</td>\n",
       "    </tr>\n",
       "    <tr>\n",
       "      <th>C</th>\n",
       "      <td>35.507347</td>\n",
       "    </tr>\n",
       "    <tr>\n",
       "      <th>M</th>\n",
       "      <td>35.666330</td>\n",
       "    </tr>\n",
       "    <tr>\n",
       "      <th rowspan=\"3\" valign=\"top\">kuruyemiş</th>\n",
       "      <th>B</th>\n",
       "      <td>30.014744</td>\n",
       "    </tr>\n",
       "    <tr>\n",
       "      <th>C</th>\n",
       "      <td>30.032744</td>\n",
       "    </tr>\n",
       "    <tr>\n",
       "      <th>M</th>\n",
       "      <td>30.099960</td>\n",
       "    </tr>\n",
       "    <tr>\n",
       "      <th rowspan=\"3\" valign=\"top\">meyve</th>\n",
       "      <th>B</th>\n",
       "      <td>9.992151</td>\n",
       "    </tr>\n",
       "    <tr>\n",
       "      <th>C</th>\n",
       "      <td>9.958138</td>\n",
       "    </tr>\n",
       "    <tr>\n",
       "      <th>M</th>\n",
       "      <td>10.028312</td>\n",
       "    </tr>\n",
       "    <tr>\n",
       "      <th rowspan=\"3\" valign=\"top\">sebze ve bakliyat</th>\n",
       "      <th>B</th>\n",
       "      <td>14.944694</td>\n",
       "    </tr>\n",
       "    <tr>\n",
       "      <th>C</th>\n",
       "      <td>14.904890</td>\n",
       "    </tr>\n",
       "    <tr>\n",
       "      <th>M</th>\n",
       "      <td>14.879722</td>\n",
       "    </tr>\n",
       "    <tr>\n",
       "      <th rowspan=\"3\" valign=\"top\">süt ürünleri ve kahvaltılık</th>\n",
       "      <th>B</th>\n",
       "      <td>25.818628</td>\n",
       "    </tr>\n",
       "    <tr>\n",
       "      <th>C</th>\n",
       "      <td>25.539446</td>\n",
       "    </tr>\n",
       "    <tr>\n",
       "      <th>M</th>\n",
       "      <td>25.500941</td>\n",
       "    </tr>\n",
       "    <tr>\n",
       "      <th rowspan=\"3\" valign=\"top\">tahıl ve ürünleri</th>\n",
       "      <th>B</th>\n",
       "      <td>9.535002</td>\n",
       "    </tr>\n",
       "    <tr>\n",
       "      <th>C</th>\n",
       "      <td>9.521207</td>\n",
       "    </tr>\n",
       "    <tr>\n",
       "      <th>M</th>\n",
       "      <td>9.552688</td>\n",
       "    </tr>\n",
       "  </tbody>\n",
       "</table>\n",
       "</div>"
      ],
      "text/plain": [
       "                                    ürün fiyatı\n",
       "ürün kategorisi             market             \n",
       "et                          B         35.995198\n",
       "                            C         35.507347\n",
       "                            M         35.666330\n",
       "kuruyemiş                   B         30.014744\n",
       "                            C         30.032744\n",
       "                            M         30.099960\n",
       "meyve                       B          9.992151\n",
       "                            C          9.958138\n",
       "                            M         10.028312\n",
       "sebze ve bakliyat           B         14.944694\n",
       "                            C         14.904890\n",
       "                            M         14.879722\n",
       "süt ürünleri ve kahvaltılık B         25.818628\n",
       "                            C         25.539446\n",
       "                            M         25.500941\n",
       "tahıl ve ürünleri           B          9.535002\n",
       "                            C          9.521207\n",
       "                            M          9.552688"
      ]
     },
     "execution_count": 13,
     "metadata": {},
     "output_type": "execute_result"
    }
   ],
   "source": [
    "#ürünlerin satış yerlerine ve kategorilerine göre gruplayarak, ortalama fiyatını alma\n",
    "market_fiyat= pd.DataFrame(train.groupby([\"ürün kategorisi\",\"market\"])[\"ürün fiyatı\"].mean())\n",
    "market_fiyat"
   ]
  },
  {
   "cell_type": "code",
   "execution_count": 14,
   "id": "126c6692",
   "metadata": {
    "execution": {
     "iopub.execute_input": "2022-08-07T09:38:32.469415Z",
     "iopub.status.busy": "2022-08-07T09:38:32.468717Z",
     "iopub.status.idle": "2022-08-07T09:38:32.818518Z",
     "shell.execute_reply": "2022-08-07T09:38:32.817675Z",
     "shell.execute_reply.started": "2022-08-07T09:37:07.853538Z"
    },
    "papermill": {
     "duration": 0.383161,
     "end_time": "2022-08-07T09:38:32.818676",
     "exception": false,
     "start_time": "2022-08-07T09:38:32.435515",
     "status": "completed"
    },
    "tags": []
   },
   "outputs": [
    {
     "data": {
      "text/plain": [
       "[None, None, None, None, None, None, None, None, None, None, None, None]"
      ]
     },
     "execution_count": 14,
     "metadata": {},
     "output_type": "execute_result"
    },
    {
     "data": {
      "image/png": "[encoded data removed]",
      "text/plain": [
       "<Figure size 432x288 with 1 Axes>"
      ]
     },
     "metadata": {
      "needs_background": "light"
     },
     "output_type": "display_data"
    }
   ],
   "source": [
    "#ürünlerin satış yerlerine göre fiyatını görselleştirme - Bar Plot\n",
    "ax=sns.barplot(y=\"ürün fiyatı\",x=\"ürün kategorisi\",hue=\"market\",data=market_fiyat.reset_index(), palette=\"pastel\")\n",
    "locs, labels = plt.xticks()\n",
    "plt.setp(labels, rotation=90)"
   ]
  },
  {
   "cell_type": "code",
   "execution_count": 15,
   "id": "d377e506",
   "metadata": {
    "execution": {
     "iopub.execute_input": "2022-08-07T09:38:32.893996Z",
     "iopub.status.busy": "2022-08-07T09:38:32.893138Z",
     "iopub.status.idle": "2022-08-07T09:38:32.903261Z",
     "shell.execute_reply": "2022-08-07T09:38:32.902594Z",
     "shell.execute_reply.started": "2022-08-07T09:37:08.209420Z"
    },
    "papermill": {
     "duration": 0.055165,
     "end_time": "2022-08-07T09:38:32.903407",
     "exception": false,
     "start_time": "2022-08-07T09:38:32.848242",
     "status": "completed"
    },
    "tags": []
   },
   "outputs": [
    {
     "data": {
      "text/plain": [
       "array(['Yurt içi', 'Yurt dışı'], dtype=object)"
      ]
     },
     "execution_count": 15,
     "metadata": {},
     "output_type": "execute_result"
    }
   ],
   "source": [
    "#Ürün üretim yeri kategorisindeki benzersiz değerler\n",
    "uretim_yeri=train[\"ürün üretim yeri\"].unique()\n",
    "uretim_yeri"
   ]
  },
  {
   "cell_type": "code",
   "execution_count": 16,
   "id": "c99d7e33",
   "metadata": {
    "execution": {
     "iopub.execute_input": "2022-08-07T09:38:32.969307Z",
     "iopub.status.busy": "2022-08-07T09:38:32.968547Z",
     "iopub.status.idle": "2022-08-07T09:38:32.987669Z",
     "shell.execute_reply": "2022-08-07T09:38:32.988202Z",
     "shell.execute_reply.started": "2022-08-07T09:37:08.236446Z"
    },
    "papermill": {
     "duration": 0.055966,
     "end_time": "2022-08-07T09:38:32.988382",
     "exception": false,
     "start_time": "2022-08-07T09:38:32.932416",
     "status": "completed"
    },
    "tags": []
   },
   "outputs": [
    {
     "data": {
      "text/plain": [
       "Yurt içi     113760\n",
       "Yurt dışı    113760\n",
       "Name: ürün üretim yeri, dtype: int64"
      ]
     },
     "execution_count": 16,
     "metadata": {},
     "output_type": "execute_result"
    }
   ],
   "source": [
    "#Yurtiçi ve yurt dışında üretilen ürünlerin sayısını görüntüleme\n",
    "train[\"ürün üretim yeri\"].value_counts()"
   ]
  },
  {
   "cell_type": "code",
   "execution_count": 17,
   "id": "d767121e",
   "metadata": {
    "execution": {
     "iopub.execute_input": "2022-08-07T09:38:33.058891Z",
     "iopub.status.busy": "2022-08-07T09:38:33.057949Z",
     "iopub.status.idle": "2022-08-07T09:38:33.107266Z",
     "shell.execute_reply": "2022-08-07T09:38:33.107803Z",
     "shell.execute_reply.started": "2022-08-07T09:37:08.260860Z"
    },
    "papermill": {
     "duration": 0.08985,
     "end_time": "2022-08-07T09:38:33.107987",
     "exception": false,
     "start_time": "2022-08-07T09:38:33.018137",
     "status": "completed"
    },
    "tags": []
   },
   "outputs": [
    {
     "data": {
      "text/html": [
       "<div>\n",
       "<style scoped>\n",
       "    .dataframe tbody tr th:only-of-type {\n",
       "        vertical-align: middle;\n",
       "    }\n",
       "\n",
       "    .dataframe tbody tr th {\n",
       "        vertical-align: top;\n",
       "    }\n",
       "\n",
       "    .dataframe thead th {\n",
       "        text-align: right;\n",
       "    }\n",
       "</style>\n",
       "<table border=\"1\" class=\"dataframe\">\n",
       "  <thead>\n",
       "    <tr style=\"text-align: right;\">\n",
       "      <th></th>\n",
       "      <th></th>\n",
       "      <th>ürün fiyatı</th>\n",
       "    </tr>\n",
       "    <tr>\n",
       "      <th>ürün kategorisi</th>\n",
       "      <th>ürün üretim yeri</th>\n",
       "      <th></th>\n",
       "    </tr>\n",
       "  </thead>\n",
       "  <tbody>\n",
       "    <tr>\n",
       "      <th rowspan=\"2\" valign=\"top\">et</th>\n",
       "      <th>Yurt dışı</th>\n",
       "      <td>35.748868</td>\n",
       "    </tr>\n",
       "    <tr>\n",
       "      <th>Yurt içi</th>\n",
       "      <td>35.697049</td>\n",
       "    </tr>\n",
       "    <tr>\n",
       "      <th rowspan=\"2\" valign=\"top\">kuruyemiş</th>\n",
       "      <th>Yurt dışı</th>\n",
       "      <td>29.939331</td>\n",
       "    </tr>\n",
       "    <tr>\n",
       "      <th>Yurt içi</th>\n",
       "      <td>30.158968</td>\n",
       "    </tr>\n",
       "    <tr>\n",
       "      <th rowspan=\"2\" valign=\"top\">meyve</th>\n",
       "      <th>Yurt dışı</th>\n",
       "      <td>9.989255</td>\n",
       "    </tr>\n",
       "    <tr>\n",
       "      <th>Yurt içi</th>\n",
       "      <td>9.996480</td>\n",
       "    </tr>\n",
       "    <tr>\n",
       "      <th rowspan=\"2\" valign=\"top\">sebze ve bakliyat</th>\n",
       "      <th>Yurt dışı</th>\n",
       "      <td>14.908812</td>\n",
       "    </tr>\n",
       "    <tr>\n",
       "      <th>Yurt içi</th>\n",
       "      <td>14.910725</td>\n",
       "    </tr>\n",
       "    <tr>\n",
       "      <th rowspan=\"2\" valign=\"top\">süt ürünleri ve kahvaltılık</th>\n",
       "      <th>Yurt dışı</th>\n",
       "      <td>25.578623</td>\n",
       "    </tr>\n",
       "    <tr>\n",
       "      <th>Yurt içi</th>\n",
       "      <td>25.660720</td>\n",
       "    </tr>\n",
       "    <tr>\n",
       "      <th rowspan=\"2\" valign=\"top\">tahıl ve ürünleri</th>\n",
       "      <th>Yurt dışı</th>\n",
       "      <td>9.503344</td>\n",
       "    </tr>\n",
       "    <tr>\n",
       "      <th>Yurt içi</th>\n",
       "      <td>9.569253</td>\n",
       "    </tr>\n",
       "  </tbody>\n",
       "</table>\n",
       "</div>"
      ],
      "text/plain": [
       "                                              ürün fiyatı\n",
       "ürün kategorisi             ürün üretim yeri             \n",
       "et                          Yurt dışı           35.748868\n",
       "                            Yurt içi            35.697049\n",
       "kuruyemiş                   Yurt dışı           29.939331\n",
       "                            Yurt içi            30.158968\n",
       "meyve                       Yurt dışı            9.989255\n",
       "                            Yurt içi             9.996480\n",
       "sebze ve bakliyat           Yurt dışı           14.908812\n",
       "                            Yurt içi            14.910725\n",
       "süt ürünleri ve kahvaltılık Yurt dışı           25.578623\n",
       "                            Yurt içi            25.660720\n",
       "tahıl ve ürünleri           Yurt dışı            9.503344\n",
       "                            Yurt içi             9.569253"
      ]
     },
     "execution_count": 17,
     "metadata": {},
     "output_type": "execute_result"
    }
   ],
   "source": [
    "#ürünlerin üretim yerlerine ve kategorilerine göre gruplayarak, ortalama fiyatını alma\n",
    "yer_fiyat= pd.DataFrame(train.groupby([\"ürün kategorisi\",\"ürün üretim yeri\"])[\"ürün fiyatı\"].mean())\n",
    "yer_fiyat"
   ]
  },
  {
   "cell_type": "code",
   "execution_count": 18,
   "id": "21075544",
   "metadata": {
    "execution": {
     "iopub.execute_input": "2022-08-07T09:38:33.178147Z",
     "iopub.status.busy": "2022-08-07T09:38:33.175862Z",
     "iopub.status.idle": "2022-08-07T09:38:33.520659Z",
     "shell.execute_reply": "2022-08-07T09:38:33.520024Z",
     "shell.execute_reply.started": "2022-08-07T09:37:08.328694Z"
    },
    "papermill": {
     "duration": 0.382755,
     "end_time": "2022-08-07T09:38:33.520830",
     "exception": false,
     "start_time": "2022-08-07T09:38:33.138075",
     "status": "completed"
    },
    "tags": []
   },
   "outputs": [
    {
     "data": {
      "text/plain": [
       "[None, None, None, None, None, None, None, None, None, None, None, None]"
      ]
     },
     "execution_count": 18,
     "metadata": {},
     "output_type": "execute_result"
    },
    {
     "data": {
      "image/png": "[encoded data removed]",
      "text/plain": [
       "<Figure size 432x288 with 1 Axes>"
      ]
     },
     "metadata": {
      "needs_background": "light"
     },
     "output_type": "display_data"
    }
   ],
   "source": [
    "#ürünlerin satış yerlerine göre fiyatını görselleştirme - Bar Plot\n",
    "ax=sns.barplot(y=\"ürün fiyatı\",x=\"ürün kategorisi\",hue=\"ürün üretim yeri\",data=yer_fiyat.reset_index())\n",
    "locs, labels = plt.xticks()\n",
    "plt.setp(labels, rotation=90)"
   ]
  },
  {
   "cell_type": "code",
   "execution_count": 19,
   "id": "e56171da",
   "metadata": {
    "execution": {
     "iopub.execute_input": "2022-08-07T09:38:33.602621Z",
     "iopub.status.busy": "2022-08-07T09:38:33.601705Z",
     "iopub.status.idle": "2022-08-07T09:38:33.611032Z",
     "shell.execute_reply": "2022-08-07T09:38:33.610431Z",
     "shell.execute_reply.started": "2022-08-07T09:37:08.667582Z"
    },
    "papermill": {
     "duration": 0.056815,
     "end_time": "2022-08-07T09:38:33.611188",
     "exception": false,
     "start_time": "2022-08-07T09:38:33.554373",
     "status": "completed"
    },
    "tags": []
   },
   "outputs": [],
   "source": [
    "#tarih sütunundan yil ve ay bilgilerini almak\n",
    "train[\"tarih\"]=pd.to_datetime(train[\"tarih\"])"
   ]
  },
  {
   "cell_type": "code",
   "execution_count": 20,
   "id": "c17018df",
   "metadata": {
    "execution": {
     "iopub.execute_input": "2022-08-07T09:38:33.680288Z",
     "iopub.status.busy": "2022-08-07T09:38:33.679617Z",
     "iopub.status.idle": "2022-08-07T09:38:33.749096Z",
     "shell.execute_reply": "2022-08-07T09:38:33.748492Z",
     "shell.execute_reply.started": "2022-08-07T09:37:08.691944Z"
    },
    "papermill": {
     "duration": 0.10622,
     "end_time": "2022-08-07T09:38:33.749247",
     "exception": false,
     "start_time": "2022-08-07T09:38:33.643027",
     "status": "completed"
    },
    "tags": []
   },
   "outputs": [],
   "source": [
    "train[\"yil\"]=train[\"tarih\"].dt.year\n",
    "train[\"ay\"]=train[\"tarih\"].dt.month\n",
    "train[\"gun\"]=train[\"tarih\"].dt.year"
   ]
  },
  {
   "cell_type": "code",
   "execution_count": 21,
   "id": "4b58c632",
   "metadata": {
    "execution": {
     "iopub.execute_input": "2022-08-07T09:38:33.817811Z",
     "iopub.status.busy": "2022-08-07T09:38:33.816777Z",
     "iopub.status.idle": "2022-08-07T09:38:33.871601Z",
     "shell.execute_reply": "2022-08-07T09:38:33.872144Z",
     "shell.execute_reply.started": "2022-08-07T09:37:08.767375Z"
    },
    "papermill": {
     "duration": 0.091742,
     "end_time": "2022-08-07T09:38:33.872378",
     "exception": false,
     "start_time": "2022-08-07T09:38:33.780636",
     "status": "completed"
    },
    "tags": []
   },
   "outputs": [
    {
     "data": {
      "text/html": [
       "<div>\n",
       "<style scoped>\n",
       "    .dataframe tbody tr th:only-of-type {\n",
       "        vertical-align: middle;\n",
       "    }\n",
       "\n",
       "    .dataframe tbody tr th {\n",
       "        vertical-align: top;\n",
       "    }\n",
       "\n",
       "    .dataframe thead th {\n",
       "        text-align: right;\n",
       "    }\n",
       "</style>\n",
       "<table border=\"1\" class=\"dataframe\">\n",
       "  <thead>\n",
       "    <tr style=\"text-align: right;\">\n",
       "      <th></th>\n",
       "      <th></th>\n",
       "      <th>ürün fiyatı</th>\n",
       "    </tr>\n",
       "    <tr>\n",
       "      <th>ürün kategorisi</th>\n",
       "      <th>yil</th>\n",
       "      <th></th>\n",
       "    </tr>\n",
       "  </thead>\n",
       "  <tbody>\n",
       "    <tr>\n",
       "      <th rowspan=\"5\" valign=\"top\">et</th>\n",
       "      <th>2016</th>\n",
       "      <td>20.122269</td>\n",
       "    </tr>\n",
       "    <tr>\n",
       "      <th>2017</th>\n",
       "      <td>25.238576</td>\n",
       "    </tr>\n",
       "    <tr>\n",
       "      <th>2018</th>\n",
       "      <td>33.369728</td>\n",
       "    </tr>\n",
       "    <tr>\n",
       "      <th>2019</th>\n",
       "      <td>44.107292</td>\n",
       "    </tr>\n",
       "    <tr>\n",
       "      <th>2020</th>\n",
       "      <td>55.776927</td>\n",
       "    </tr>\n",
       "    <tr>\n",
       "      <th rowspan=\"5\" valign=\"top\">kuruyemiş</th>\n",
       "      <th>2016</th>\n",
       "      <td>17.109031</td>\n",
       "    </tr>\n",
       "    <tr>\n",
       "      <th>2017</th>\n",
       "      <td>21.403479</td>\n",
       "    </tr>\n",
       "    <tr>\n",
       "      <th>2018</th>\n",
       "      <td>28.072552</td>\n",
       "    </tr>\n",
       "    <tr>\n",
       "      <th>2019</th>\n",
       "      <td>36.889337</td>\n",
       "    </tr>\n",
       "    <tr>\n",
       "      <th>2020</th>\n",
       "      <td>46.771347</td>\n",
       "    </tr>\n",
       "    <tr>\n",
       "      <th rowspan=\"5\" valign=\"top\">meyve</th>\n",
       "      <th>2016</th>\n",
       "      <td>5.662894</td>\n",
       "    </tr>\n",
       "    <tr>\n",
       "      <th>2017</th>\n",
       "      <td>7.090582</td>\n",
       "    </tr>\n",
       "    <tr>\n",
       "      <th>2018</th>\n",
       "      <td>9.347296</td>\n",
       "    </tr>\n",
       "    <tr>\n",
       "      <th>2019</th>\n",
       "      <td>12.291692</td>\n",
       "    </tr>\n",
       "    <tr>\n",
       "      <th>2020</th>\n",
       "      <td>15.571872</td>\n",
       "    </tr>\n",
       "    <tr>\n",
       "      <th rowspan=\"5\" valign=\"top\">sebze ve bakliyat</th>\n",
       "      <th>2016</th>\n",
       "      <td>8.454689</td>\n",
       "    </tr>\n",
       "    <tr>\n",
       "      <th>2017</th>\n",
       "      <td>10.601573</td>\n",
       "    </tr>\n",
       "    <tr>\n",
       "      <th>2018</th>\n",
       "      <td>13.944897</td>\n",
       "    </tr>\n",
       "    <tr>\n",
       "      <th>2019</th>\n",
       "      <td>18.339276</td>\n",
       "    </tr>\n",
       "    <tr>\n",
       "      <th>2020</th>\n",
       "      <td>23.208409</td>\n",
       "    </tr>\n",
       "    <tr>\n",
       "      <th rowspan=\"5\" valign=\"top\">süt ürünleri ve kahvaltılık</th>\n",
       "      <th>2016</th>\n",
       "      <td>14.503876</td>\n",
       "    </tr>\n",
       "    <tr>\n",
       "      <th>2017</th>\n",
       "      <td>18.188082</td>\n",
       "    </tr>\n",
       "    <tr>\n",
       "      <th>2018</th>\n",
       "      <td>23.945894</td>\n",
       "    </tr>\n",
       "    <tr>\n",
       "      <th>2019</th>\n",
       "      <td>31.546373</td>\n",
       "    </tr>\n",
       "    <tr>\n",
       "      <th>2020</th>\n",
       "      <td>39.914133</td>\n",
       "    </tr>\n",
       "    <tr>\n",
       "      <th rowspan=\"5\" valign=\"top\">tahıl ve ürünleri</th>\n",
       "      <th>2016</th>\n",
       "      <td>5.414829</td>\n",
       "    </tr>\n",
       "    <tr>\n",
       "      <th>2017</th>\n",
       "      <td>6.779239</td>\n",
       "    </tr>\n",
       "    <tr>\n",
       "      <th>2018</th>\n",
       "      <td>8.926311</td>\n",
       "    </tr>\n",
       "    <tr>\n",
       "      <th>2019</th>\n",
       "      <td>11.723370</td>\n",
       "    </tr>\n",
       "    <tr>\n",
       "      <th>2020</th>\n",
       "      <td>14.837746</td>\n",
       "    </tr>\n",
       "  </tbody>\n",
       "</table>\n",
       "</div>"
      ],
      "text/plain": [
       "                                  ürün fiyatı\n",
       "ürün kategorisi             yil              \n",
       "et                          2016    20.122269\n",
       "                            2017    25.238576\n",
       "                            2018    33.369728\n",
       "                            2019    44.107292\n",
       "                            2020    55.776927\n",
       "kuruyemiş                   2016    17.109031\n",
       "                            2017    21.403479\n",
       "                            2018    28.072552\n",
       "                            2019    36.889337\n",
       "                            2020    46.771347\n",
       "meyve                       2016     5.662894\n",
       "                            2017     7.090582\n",
       "                            2018     9.347296\n",
       "                            2019    12.291692\n",
       "                            2020    15.571872\n",
       "sebze ve bakliyat           2016     8.454689\n",
       "                            2017    10.601573\n",
       "                            2018    13.944897\n",
       "                            2019    18.339276\n",
       "                            2020    23.208409\n",
       "süt ürünleri ve kahvaltılık 2016    14.503876\n",
       "                            2017    18.188082\n",
       "                            2018    23.945894\n",
       "                            2019    31.546373\n",
       "                            2020    39.914133\n",
       "tahıl ve ürünleri           2016     5.414829\n",
       "                            2017     6.779239\n",
       "                            2018     8.926311\n",
       "                            2019    11.723370\n",
       "                            2020    14.837746"
      ]
     },
     "execution_count": 21,
     "metadata": {},
     "output_type": "execute_result"
    }
   ],
   "source": [
    "#Yıllara göre ürünlerin fiyat ortalaması\n",
    "yillara_gore_ortalama= pd.DataFrame(train.groupby([\"ürün kategorisi\",\"yil\"])[\"ürün fiyatı\"].mean())\n",
    "yillara_gore_ortalama"
   ]
  },
  {
   "cell_type": "code",
   "execution_count": 22,
   "id": "c59a6002",
   "metadata": {
    "execution": {
     "iopub.execute_input": "2022-08-07T09:38:33.956948Z",
     "iopub.status.busy": "2022-08-07T09:38:33.953120Z",
     "iopub.status.idle": "2022-08-07T09:38:34.362971Z",
     "shell.execute_reply": "2022-08-07T09:38:34.363454Z",
     "shell.execute_reply.started": "2022-08-07T09:37:08.820568Z"
    },
    "papermill": {
     "duration": 0.45748,
     "end_time": "2022-08-07T09:38:34.363656",
     "exception": false,
     "start_time": "2022-08-07T09:38:33.906176",
     "status": "completed"
    },
    "tags": []
   },
   "outputs": [
    {
     "data": {
      "text/plain": [
       "<AxesSubplot:xlabel='yil', ylabel='ürün fiyatı'>"
      ]
     },
     "execution_count": 22,
     "metadata": {},
     "output_type": "execute_result"
    },
    {
     "data": {
      "image/png": "[encoded data removed]",
      "text/plain": [
       "<Figure size 432x288 with 1 Axes>"
      ]
     },
     "metadata": {
      "needs_background": "light"
     },
     "output_type": "display_data"
    }
   ],
   "source": [
    "#Yıllara göre ürünlerin fiyat ortalamalarının artışını görselleştirme\n",
    "sns.lineplot(data=yillara_gore_ortalama, x=\"yil\", y=\"ürün fiyatı\", hue=\"ürün kategorisi\")"
   ]
  },
  {
   "cell_type": "code",
   "execution_count": null,
   "id": "113ca9b5",
   "metadata": {
    "papermill": {
     "duration": 0.033362,
     "end_time": "2022-08-07T09:38:34.431382",
     "exception": false,
     "start_time": "2022-08-07T09:38:34.398020",
     "status": "completed"
    },
    "tags": []
   },
   "outputs": [],
   "source": []
  }
 ],
 "metadata": {
  "kernelspec": {
   "display_name": "Python 3",
   "language": "python",
   "name": "python3"
  },
  "language_info": {
   "codemirror_mode": {
    "name": "ipython",
    "version": 3
   },
   "file_extension": ".py",
   "mimetype": "text/x-python",
   "name": "python",
   "nbconvert_exporter": "python",
   "pygments_lexer": "ipython3",
   "version": "3.7.12"
  },
  "papermill": {
   "default_parameters": {},
   "duration": 16.5622,
   "end_time": "2022-08-07T09:38:35.377378",
   "environment_variables": {},
   "exception": null,
   "input_path": "__notebook__.ipynb",
   "output_path": "__notebook__.ipynb",
   "parameters": {},
   "start_time": "2022-08-07T09:38:18.815178",
   "version": "2.3.3"
  }
 },
 "nbformat": 4,
 "nbformat_minor": 5
}
